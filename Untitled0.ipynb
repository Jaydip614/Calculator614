{
  "nbformat": 4,
  "nbformat_minor": 0,
  "metadata": {
    "colab": {
      "provenance": [],
      "authorship_tag": "ABX9TyPDWGJ0dENJGfaVFceLP/Qf",
      "include_colab_link": true
    },
    "kernelspec": {
      "name": "python3",
      "display_name": "Python 3"
    },
    "language_info": {
      "name": "python"
    }
  },
  "cells": [
    {
      "cell_type": "markdown",
      "metadata": {
        "id": "view-in-github",
        "colab_type": "text"
      },
      "source": [
        "<a href=\"https://colab.research.google.com/github/Jaydip614/Calculator614/blob/main/Untitled0.ipynb\" target=\"_parent\"><img src=\"https://colab.research.google.com/assets/colab-badge.svg\" alt=\"Open In Colab\"/></a>"
      ]
    },
    {
      "cell_type": "code",
      "execution_count": 5,
      "metadata": {
        "id": "O475cfYlunjc"
      },
      "outputs": [],
      "source": [
        "!apt-get install openjdk-8-jdk-headless -qq > /dev/null\n",
        "!wget -q https://archive.apache.org./dist/spark/spark-3.1.1/spark-3.1.1-bin-hadoop3.2.tgz\n",
        "!tar xf spark-3.1.1-bin-hadoop3.2.tgz\n",
        "!pip install -q findspark"
      ]
    },
    {
      "cell_type": "code",
      "source": [
        "import os\n",
        "os.environ[\"JAVA_HOME\"] = \"/usr/lib/jvm/java-8-openjdk-amd64\"\n",
        "on.environ[\"\"]"
      ],
      "metadata": {
        "id": "46m5gWHHxJjB"
      },
      "execution_count": null,
      "outputs": []
    },
    {
      "cell_type": "code",
      "source": [
        "import findspark\n",
        "findspark.init()\n",
        "from pyspark.sql import SparkSession\n",
        "spark = SparkSession.builder.master(\"local[*]\").getOrCreate();\n",
        "spark.conf.set(\"spark.sql.repl.eagerEval.enabled\",True) # Proper\n",
        "spark"
      ],
      "metadata": {
        "id": "sUeBHMU4yEok"
      },
      "execution_count": null,
      "outputs": []
    },
    {
      "cell_type": "code",
      "source": [
        "import pandas as pd\n",
        "import pyspark"
      ],
      "metadata": {
        "id": "dhIA6kfCyqF1"
      },
      "execution_count": null,
      "outputs": []
    },
    {
      "cell_type": "code",
      "source": [
        "num =[1,2,3,4,5]\n",
        "\n",
        "num_rdd = sc.parallelize(num)\n",
        "num_rdd.collect()"
      ],
      "metadata": {
        "id": "DJDLpysj0cs0"
      },
      "execution_count": null,
      "outputs": []
    },
    {
      "cell_type": "markdown",
      "source": [
        "Transformation"
      ],
      "metadata": {
        "id": "4XJERILI1XhR"
      }
    },
    {
      "cell_type": "code",
      "source": [
        "double_rdd = num_rdd.map(lambda x : x * 2)\n",
        "double_rdd.collect()"
      ],
      "metadata": {
        "id": "nxB314EO1BzP"
      },
      "execution_count": null,
      "outputs": []
    },
    {
      "cell_type": "markdown",
      "source": [
        "Action"
      ],
      "metadata": {
        "id": "fr016oFe1xVQ"
      }
    },
    {
      "cell_type": "code",
      "source": [
        "num = sc.parallelize ([1,2,3,4,5])\n",
        "num.count()"
      ],
      "metadata": {
        "id": "c7BgsS_81zi2"
      },
      "execution_count": null,
      "outputs": []
    }
  ]
}